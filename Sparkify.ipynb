{
 "cells": [
  {
   "cell_type": "markdown",
   "metadata": {},
   "source": [
    "# Sparkify Project Workspace\n",
    "This workspace contains a tiny subset (128MB) of the full dataset available (12GB). Feel free to use this workspace to build your project, or to explore a smaller subset with Spark before deploying your cluster on the cloud. Instructions for setting up your Spark cluster is included in the last lesson of the Extracurricular Spark Course content.\n",
    "\n",
    "You can follow the steps below to guide your data analysis and model building portion of this project."
   ]
  },
  {
   "cell_type": "code",
   "execution_count": 1,
   "metadata": {},
   "outputs": [],
   "source": [
    "# import libraries\n",
    "import pyspark\n",
    "from pyspark import SparkConf\n",
    "from pyspark.sql import SparkSession\n",
    "from pyspark.sql.functions import desc\n",
    "from pyspark.sql.functions import udf\n",
    "from pyspark.sql.types import StringType\n",
    "from pyspark.sql.types import IntegerType\n",
    "from pyspark.sql.types import LongType\n",
    "#from pyspark.sql.functions import year, month, dayofmonth, hour\n",
    "from pyspark.sql import Window\n",
    "from pyspark.sql.functions import when, rand, mean, split, explode, max as maximum,min as minimum,datediff,from_unixtime, countDistinct as addupDistinct, sum as total, date_add\n",
    "\n",
    "import datetime as dt\n",
    "\n",
    "from pyspark.ml.classification import LogisticRegression, DecisionTreeClassifier, RandomForestClassifier\n",
    "from pyspark.ml.feature import VectorAssembler\n",
    "from pyspark.ml.evaluation import MulticlassClassificationEvaluator\n",
    "from pyspark.ml.tuning import CrossValidator, ParamGridBuilder"
   ]
  },
  {
   "cell_type": "code",
   "execution_count": 2,
   "metadata": {},
   "outputs": [],
   "source": [
    "# create a Spark session\n",
    "spark = SparkSession \\\n",
    "    .builder \\\n",
    "    .appName(\"Sparkify app\") \\\n",
    "    .getOrCreate()"
   ]
  },
  {
   "cell_type": "markdown",
   "metadata": {},
   "source": [
    "# Load and Clean Dataset\n",
    "In this workspace, the mini-dataset file is `mini_sparkify_event_data.json`. Load and clean the dataset, checking for invalid or missing data - for example, records without userids or sessionids. "
   ]
  },
  {
   "cell_type": "code",
   "execution_count": 3,
   "metadata": {},
   "outputs": [],
   "source": [
    "# load data\n",
    "path = \"mini_sparkify_event_data.json\"\n",
    "user_log = spark.read.json(path)"
   ]
  },
  {
   "cell_type": "code",
   "execution_count": 4,
   "metadata": {
    "scrolled": true
   },
   "outputs": [
    {
     "name": "stdout",
     "output_type": "stream",
     "text": [
      "root\n",
      " |-- artist: string (nullable = true)\n",
      " |-- auth: string (nullable = true)\n",
      " |-- firstName: string (nullable = true)\n",
      " |-- gender: string (nullable = true)\n",
      " |-- itemInSession: long (nullable = true)\n",
      " |-- lastName: string (nullable = true)\n",
      " |-- length: double (nullable = true)\n",
      " |-- level: string (nullable = true)\n",
      " |-- location: string (nullable = true)\n",
      " |-- method: string (nullable = true)\n",
      " |-- page: string (nullable = true)\n",
      " |-- registration: long (nullable = true)\n",
      " |-- sessionId: long (nullable = true)\n",
      " |-- song: string (nullable = true)\n",
      " |-- status: long (nullable = true)\n",
      " |-- ts: long (nullable = true)\n",
      " |-- userAgent: string (nullable = true)\n",
      " |-- userId: string (nullable = true)\n",
      "\n"
     ]
    }
   ],
   "source": [
    "# check schema of data\n",
    "user_log.printSchema()"
   ]
  },
  {
   "cell_type": "code",
   "execution_count": 5,
   "metadata": {},
   "outputs": [
    {
     "name": "stdout",
     "output_type": "stream",
     "text": [
      "+--------------------+------+\n",
      "|                page| count|\n",
      "+--------------------+------+\n",
      "|            NextSong|228108|\n",
      "|                Home| 14457|\n",
      "|           Thumbs Up| 12551|\n",
      "|     Add to Playlist|  6526|\n",
      "|          Add Friend|  4277|\n",
      "|         Roll Advert|  3933|\n",
      "|               Login|  3241|\n",
      "|              Logout|  3226|\n",
      "|         Thumbs Down|  2546|\n",
      "|           Downgrade|  2055|\n",
      "|                Help|  1726|\n",
      "|            Settings|  1514|\n",
      "|               About|   924|\n",
      "|             Upgrade|   499|\n",
      "|       Save Settings|   310|\n",
      "|               Error|   258|\n",
      "|      Submit Upgrade|   159|\n",
      "|    Submit Downgrade|    63|\n",
      "|              Cancel|    52|\n",
      "|Cancellation Conf...|    52|\n",
      "|            Register|    18|\n",
      "| Submit Registration|     5|\n",
      "+--------------------+------+\n",
      "\n"
     ]
    }
   ],
   "source": [
    "# check what types of pages exist\n",
    "user_log.groupBy('page').count().orderBy(desc('count')).show(50)"
   ]
  },
  {
   "cell_type": "code",
   "execution_count": 6,
   "metadata": {
    "scrolled": true
   },
   "outputs": [],
   "source": [
    "# filter out null and empty ids\n",
    "user_log = user_log.filter(user_log.userId != \"\")\\\n",
    "                    .filter(user_log.userId.isNotNull())\\\n",
    "                    .filter(user_log.sessionId.isNotNull())"
   ]
  },
  {
   "cell_type": "code",
   "execution_count": 7,
   "metadata": {},
   "outputs": [],
   "source": [
    "# select particular columns to continue with\n",
    "selected_data = user_log.select(['sessionId','userId','sessionId',\\\n",
    "                                'song','artist', 'gender','itemInSession',\\\n",
    "                                'length','level','location','page','status','ts','userAgent'])"
   ]
  },
  {
   "cell_type": "code",
   "execution_count": 8,
   "metadata": {},
   "outputs": [],
   "source": [
    "# create timestamp udfs\n",
    "get_hour = udf(lambda x: dt.datetime.fromtimestamp(x / 1000.0).hour)\n",
    "get_year = udf(lambda x: dt.datetime.fromtimestamp(x / 1000.0).year)\n",
    "get_month = udf(lambda x: dt.datetime.fromtimestamp(x / 1000.0).month)\n",
    "get_day = udf(lambda x: dt.datetime.fromtimestamp(x / 1000.0).day)"
   ]
  },
  {
   "cell_type": "code",
   "execution_count": 9,
   "metadata": {},
   "outputs": [],
   "source": [
    "selected_data = selected_data.withColumn('year',get_year(selected_data.ts))\\\n",
    "                            .withColumn('month',get_month(selected_data.ts))\\\n",
    "                            .withColumn('day',get_day(selected_data.ts))\\\n",
    "                            .withColumn('hour',get_hour(selected_data.ts))\\"
   ]
  },
  {
   "cell_type": "markdown",
   "metadata": {},
   "source": [
    "# Exploratory Data Analysis\n",
    "When you're working with the full dataset, perform EDA by loading a small subset of the data and doing basic manipulations within Spark. In this workspace, you are already provided a small subset of data you can explore.\n",
    "\n",
    "### Define Churn\n",
    "\n",
    "Once you've done some preliminary analysis, create a column `Churn` to use as the label for your model. I suggest using the `Cancellation Confirmation` events to define your churn, which happen for both paid and free users. As a bonus task, you can also look into the `Downgrade` events.\n",
    "\n",
    "### Explore Data\n",
    "Once you've defined churn, perform some exploratory data analysis to observe the behavior for users who stayed vs users who churned. You can start by exploring aggregates on these two groups of users, observing how much of a specific action they experienced per a certain time unit or number of songs played."
   ]
  },
  {
   "cell_type": "code",
   "execution_count": 10,
   "metadata": {},
   "outputs": [],
   "source": [
    "check_for_churn = udf(lambda x: 1 if x == 'Cancellation Confirmation' else 0, IntegerType())\n",
    "check_for_downgrade_visit = udf(lambda x: 1 if x == 'Downgrade' else 0, IntegerType())\n",
    "check_for_downgrade_submit = udf(lambda x: 1 if x == 'Submit Downgrade' else 0, IntegerType())\n",
    "check_for_playlist = udf(lambda x: 1 if x == 'Add to Playlist' else 0, IntegerType())\n",
    "check_for_friends = udf(lambda x: 1 if x == 'Add Friend' else 0, IntegerType())\n",
    "check_for_adverts = udf(lambda x: 1 if x == 'Roll Advert' else 0, IntegerType())\n",
    "check_for_logout = udf(lambda x: 1 if x == 'Logout' else 0, IntegerType())\n",
    "# mark listening to song event\n",
    "song_event = udf(lambda x: 1 if x == 'NextSong' else 0, IntegerType())\n",
    "# mark listening to song event\n",
    "check_level = udf(lambda x: 1 if x == 'paid' else 0, IntegerType())\n",
    "check_thumbsup = udf(lambda x: 1 if x == 'Thumbs Up' else 0, IntegerType())\n",
    "check_thumbsdown = udf(lambda x: 1 if x == 'Thumbs Down' else 0, IntegerType())"
   ]
  },
  {
   "cell_type": "code",
   "execution_count": 11,
   "metadata": {},
   "outputs": [],
   "source": [
    "windowsum = Window.partitionBy(\"userId\")"
   ]
  },
  {
   "cell_type": "code",
   "execution_count": 12,
   "metadata": {},
   "outputs": [],
   "source": [
    "# calculate start and end time for each user in the database\n",
    "selected_data = selected_data.withColumn('endDate',from_unixtime(maximum(selected_data.ts/1000.0).over(windowsum)))\\\n",
    "                             .withColumn('startDate',from_unixtime(minimum(selected_data.ts/1000.0).over(windowsum)))\n",
    "\n",
    "# calculate duration per user\n",
    "selected_data = selected_data\\\n",
    "        .withColumn('durationDays',datediff('endDate','startDate'))"
   ]
  },
  {
   "cell_type": "code",
   "execution_count": 13,
   "metadata": {},
   "outputs": [],
   "source": [
    "# adding weekly timestamps to track behaviour over time\n",
    "selected_data = selected_data.withColumn('weekBeforeEndDate', date_add(selected_data.endDate,-7))\\\n",
    "                                .withColumn('twoweekBeforeEndDate', date_add(selected_data.endDate,-14))\\\n",
    "                                .withColumn('threeweekBeforeEndDate', date_add(selected_data.endDate,-21))\\\n",
    "                                .withColumn('fourweekBeforeEndDate', date_add(selected_data.endDate,-28))"
   ]
  },
  {
   "cell_type": "code",
   "execution_count": 14,
   "metadata": {},
   "outputs": [],
   "source": [
    "selected_data = selected_data.withColumn('churn',check_for_churn('page'))\\\n",
    "                            .withColumn('downgradeVisit',check_for_downgrade_visit('page'))\\\n",
    "                            .withColumn('downgradeSubmit',check_for_downgrade_submit('page'))\\\n",
    "                            .withColumn('addToPlaylist',check_for_playlist('page'))\\\n",
    "                            .withColumn('addFriend',check_for_friends('page'))\\\n",
    "                            .withColumn('rollAdvert',check_for_adverts('page'))\\\n",
    "                            .withColumn('logout',check_for_logout('page'))\\\n",
    "                            .withColumn('payingUser',check_level('level'))\\\n",
    "                            .withColumn('Up',check_thumbsup('page'))\\\n",
    "                            .withColumn('Down',check_thumbsdown('page'))\\\n",
    "                            .withColumn('listeningSongs',song_event(selected_data.page))"
   ]
  },
  {
   "cell_type": "code",
   "execution_count": 15,
   "metadata": {},
   "outputs": [],
   "source": [
    "\n",
    "selected_data = selected_data.withColumn('churned',total('churn').over(windowsum))"
   ]
  },
  {
   "cell_type": "code",
   "execution_count": 16,
   "metadata": {},
   "outputs": [],
   "source": [
    "selected_data = selected_data.withColumn('paying_when_churned',when((selected_data.churn == 1) \\\n",
    "                                                                    & (selected_data.payingUser == 1), 1)\\\n",
    "                                                                     .otherwise(0))\n",
    "                                         "
   ]
  },
  {
   "cell_type": "code",
   "execution_count": 17,
   "metadata": {},
   "outputs": [
    {
     "name": "stdout",
     "output_type": "stream",
     "text": [
      "+-----+------------------------+\n",
      "|churn|avg(paying_when_churned)|\n",
      "+-----+------------------------+\n",
      "|    1|      0.5961538461538461|\n",
      "|    0|                     0.0|\n",
      "+-----+------------------------+\n",
      "\n"
     ]
    }
   ],
   "source": [
    "selected_data.select(['churn','paying_when_churned']).groupBy('churn').avg('paying_when_churned').show()"
   ]
  },
  {
   "cell_type": "code",
   "execution_count": 18,
   "metadata": {},
   "outputs": [
    {
     "name": "stdout",
     "output_type": "stream",
     "text": [
      "+----------+-----+\n",
      "|payingUser|count|\n",
      "+----------+-----+\n",
      "|         1|   31|\n",
      "|         0|   21|\n",
      "+----------+-----+\n",
      "\n"
     ]
    }
   ],
   "source": [
    "selected_data.filter(selected_data.churn == 1)\\\n",
    "                    .groupBy('payingUser').count().show()"
   ]
  },
  {
   "cell_type": "code",
   "execution_count": 19,
   "metadata": {},
   "outputs": [
    {
     "name": "stdout",
     "output_type": "stream",
     "text": [
      "+-------+------------------+\n",
      "|churned|   avg(payingUser)|\n",
      "+-------+------------------+\n",
      "|      0|0.6589595375722543|\n",
      "|      1|0.5961538461538461|\n",
      "+-------+------------------+\n",
      "\n"
     ]
    }
   ],
   "source": [
    "selected_data.filter(from_unixtime(selected_data.ts/1000.0) == selected_data.endDate)\\\n",
    "                        .select(['userId','churned','payingUser']).dropDuplicates()\\\n",
    "                        .groupBy('churned').avg('payingUser').show()"
   ]
  },
  {
   "cell_type": "code",
   "execution_count": 20,
   "metadata": {},
   "outputs": [],
   "source": [
    "# filter out last week of user interactions\n",
    "selected_data_last_week = selected_data\\\n",
    "                            .filter(from_unixtime(selected_data.ts/1000.0) > selected_data.weekBeforeEndDate)\n",
    "selected_data_before_last_week = selected_data\\\n",
    "                            .filter(from_unixtime(selected_data.ts/1000.0) < selected_data.weekBeforeEndDate)"
   ]
  },
  {
   "cell_type": "code",
   "execution_count": 21,
   "metadata": {},
   "outputs": [],
   "source": [
    "def calculate_total_user_activity(df):\n",
    "    # find how much time canceling users were subscribed\n",
    "    windowsum = Window.partitionBy(\"userId\")\n",
    "\n",
    "    # mark all instances of users that canceled subscription\n",
    "    df = df.withColumn('downgradeVisited',total('downgradeVisit').over(windowsum))\\\n",
    "                        .withColumn('downgradeSubmitted',total('downgradeSubmit').over(windowsum))\\\n",
    "\n",
    "    \n",
    "    # calculate total songs listened per user\n",
    "    df = df.withColumn('songsListened', total('listeningSongs').over(windowsum))\n",
    "    df = df.withColumn('songsAddedToPlaylist', total('addToPlaylist').over(windowsum))\n",
    "    df = df.withColumn('friendsAdded', total('addFriend').over(windowsum))\n",
    "    df = df.withColumn('rolledAdverts', total('rollAdvert').over(windowsum))\n",
    "    df = df.withColumn('logouts', total('logout').over(windowsum))\n",
    "    df = df.withColumn('DownVoted', total('Down').over(windowsum))\n",
    "    df = df.withColumn('UpVoted', total('Up').over(windowsum))\n",
    "    df = df.withColumn('payingChurned', total('paying_when_churned').over(windowsum))\n",
    "    \n",
    "    return df"
   ]
  },
  {
   "cell_type": "code",
   "execution_count": 22,
   "metadata": {},
   "outputs": [],
   "source": [
    "def calculate_days_of_actual_interaction(df):\n",
    "    days_interacting_per_user = df.select('userId','year','month','day').dropDuplicates()\\\n",
    "                            .groupBy('userId').count().withColumnRenamed('count','daysInteracting')\n",
    "    df = df.join(days_interacting_per_user,'userId','left')\n",
    "    \n",
    "    return df"
   ]
  },
  {
   "cell_type": "code",
   "execution_count": 23,
   "metadata": {},
   "outputs": [],
   "source": [
    "def calculate_user_activity_per_day(df):\n",
    "    # calculate average amount of songs listened per user\n",
    "    df = df.withColumn('songsListenedPerDay'\\\n",
    "                                             , df.songsListened/df.daysInteracting)\n",
    "    # calculate average amount of songs listened per user\n",
    "    df = df.withColumn('songsAddedToPlaylistPerDay'\\\n",
    "                                             , df.songsAddedToPlaylist/df.daysInteracting)\n",
    "    # calculate average amount of songs listened per user\n",
    "    df = df.withColumn('friendsAddedPerDay'\\\n",
    "                                             , df.friendsAdded/df.daysInteracting)\n",
    "    # calculate average amount of songs listened per user\n",
    "    df = df.withColumn('rolledAdvertsPerDay'\\\n",
    "                                             , df.rolledAdverts/df.daysInteracting)\n",
    "    # calculate average amount of songs listened per user\n",
    "    df = df.withColumn('logoutsPerDay'\\\n",
    "                                             , df.logouts/df.daysInteracting)\n",
    "    df = df.withColumn('upVotedPerDay'\\\n",
    "                                             , df.UpVoted/df.daysInteracting)\n",
    "    df = df.withColumn('DownVotedPerDay'\\\n",
    "                                             , df.DownVoted/df.daysInteracting)\n",
    "    df = df.withColumn('DownVotedPerSong'\\\n",
    "                                             , df.DownVoted/df.songsListened)\n",
    "    df = df.withColumn('UpVotedPerSong'\\\n",
    "                                             , df.UpVoted/df.songsListened)\n",
    "    df = df.withColumn('rolledAdvertsPerSong'\\\n",
    "                                             , df.rolledAdverts/df.songsListened)\n",
    "    \n",
    "    return df\n"
   ]
  },
  {
   "cell_type": "code",
   "execution_count": 24,
   "metadata": {},
   "outputs": [],
   "source": [
    "selected_data = calculate_total_user_activity(selected_data)\n",
    "selected_data_last_week = calculate_total_user_activity(selected_data_last_week)\n",
    "selected_data_before_last_week = calculate_total_user_activity(selected_data_before_last_week)"
   ]
  },
  {
   "cell_type": "code",
   "execution_count": 25,
   "metadata": {},
   "outputs": [],
   "source": [
    "selected_data = calculate_days_of_actual_interaction(selected_data)\n",
    "selected_data_last_week = calculate_days_of_actual_interaction(selected_data_last_week)\n",
    "selected_data_before_last_week = calculate_days_of_actual_interaction(selected_data_before_last_week)"
   ]
  },
  {
   "cell_type": "code",
   "execution_count": 26,
   "metadata": {},
   "outputs": [],
   "source": [
    "selected_data = calculate_user_activity_per_day(selected_data)\n",
    "selected_data_last_week = calculate_user_activity_per_day(selected_data_last_week)\n",
    "selected_data_before_last_week = calculate_user_activity_per_day(selected_data_before_last_week)"
   ]
  },
  {
   "cell_type": "code",
   "execution_count": 27,
   "metadata": {},
   "outputs": [],
   "source": [
    "selected_data = selected_data.withColumn('intensityOfInteraction',\\\n",
    "                                         selected_data.daysInteracting/selected_data.durationDays*100)\\\n",
    "                             .fillna(0,subset=['intensityOfInteraction'])"
   ]
  },
  {
   "cell_type": "code",
   "execution_count": 28,
   "metadata": {},
   "outputs": [
    {
     "data": {
      "text/plain": [
       "278154"
      ]
     },
     "execution_count": 28,
     "metadata": {},
     "output_type": "execute_result"
    }
   ],
   "source": [
    "selected_data.count()"
   ]
  },
  {
   "cell_type": "code",
   "execution_count": 29,
   "metadata": {},
   "outputs": [
    {
     "data": {
      "text/plain": [
       "225"
      ]
     },
     "execution_count": 29,
     "metadata": {},
     "output_type": "execute_result"
    }
   ],
   "source": [
    "selected_data.select('userId').dropDuplicates().count()"
   ]
  },
  {
   "cell_type": "code",
   "execution_count": 30,
   "metadata": {},
   "outputs": [
    {
     "data": {
      "text/plain": [
       "63"
      ]
     },
     "execution_count": 30,
     "metadata": {},
     "output_type": "execute_result"
    }
   ],
   "source": [
    "selected_data.select(['year','month','day']).dropDuplicates().count()"
   ]
  },
  {
   "cell_type": "code",
   "execution_count": 31,
   "metadata": {},
   "outputs": [
    {
     "name": "stdout",
     "output_type": "stream",
     "text": [
      "+-------+------------------------+-------------------------------+-----------------------+------------------------+\n",
      "|churned|avg(songsListenedPerDay)|avg(songsAddedToPlaylistPerDay)|avg(friendsAddedPerDay)|avg(rolledAdvertsPerDay)|\n",
      "+-------+------------------------+-------------------------------+-----------------------+------------------------+\n",
      "|      0|       67.96643270024774|             1.7996696944673825|     1.4228254885769334|       1.176520781723094|\n",
      "|      1|       72.11620879120879|             2.0535714285714284|     1.2995421245421248|       2.235164835164835|\n",
      "+-------+------------------------+-------------------------------+-----------------------+------------------------+\n",
      "\n"
     ]
    }
   ],
   "source": [
    "if True:\n",
    "    selected_data_last_week.select(['userId','churned','songsListenedPerDay'\\\n",
    "                                             , 'songsAddedToPlaylistPerDay'\n",
    "                                             , 'friendsAddedPerDay'\n",
    "                                             , 'rolledAdvertsPerDay'\n",
    "                                             , 'logoutsPerDay'\n",
    "                                             , 'upVotedPerDay'\n",
    "                                             , 'DownVotedPerDay'\n",
    "                                             , 'DownVotedPerSong'\n",
    "                                             , 'UpVotedPerSong'\n",
    "                                             , 'rolledAdvertsPerSong'])\\\n",
    "                                            .dropDuplicates()\\\n",
    "                                            .groupBy('churned')\\\n",
    "                                            .avg('songsListenedPerDay'\n",
    "                                                 , 'songsAddedToPlaylistPerDay'\n",
    "                                                 , 'friendsAddedPerDay'\n",
    "                                                 , 'rolledAdvertsPerDay').show()"
   ]
  },
  {
   "cell_type": "code",
   "execution_count": 32,
   "metadata": {},
   "outputs": [
    {
     "name": "stdout",
     "output_type": "stream",
     "text": [
      "+-------+------------------------+-------------------------------+-----------------------+------------------------+\n",
      "|churned|avg(songsListenedPerDay)|avg(songsAddedToPlaylistPerDay)|avg(friendsAddedPerDay)|avg(rolledAdvertsPerDay)|\n",
      "+-------+------------------------+-------------------------------+-----------------------+------------------------+\n",
      "|      0|       62.07086336948415|             1.7436155580180257|      1.217066339866902|      1.4343073569314155|\n",
      "|      1|       60.37457192442165|             1.6358783643802142|     1.1811804282622829|      2.0764543435622493|\n",
      "+-------+------------------------+-------------------------------+-----------------------+------------------------+\n",
      "\n"
     ]
    }
   ],
   "source": [
    "if True:\n",
    "    selected_data_before_last_week.select(['userId','churned','songsListenedPerDay'\\\n",
    "                                             , 'songsAddedToPlaylistPerDay'\n",
    "                                             , 'friendsAddedPerDay'\n",
    "                                             , 'rolledAdvertsPerDay'\n",
    "                                             , 'logoutsPerDay'\n",
    "                                             , 'upVotedPerDay'\n",
    "                                             , 'DownVotedPerDay'\n",
    "                                             , 'DownVotedPerSong'\n",
    "                                             , 'UpVotedPerSong'\n",
    "                                             , 'rolledAdvertsPerSong'])\\\n",
    "                                            .dropDuplicates()\\\n",
    "                                            .groupBy('churned')\\\n",
    "                                            .avg('songsListenedPerDay'\n",
    "                                                 , 'songsAddedToPlaylistPerDay'\n",
    "                                                 , 'friendsAddedPerDay'\n",
    "                                                 , 'rolledAdvertsPerDay').show()"
   ]
  },
  {
   "cell_type": "code",
   "execution_count": 33,
   "metadata": {},
   "outputs": [
    {
     "name": "stdout",
     "output_type": "stream",
     "text": [
      "+-------+------------------+---------------------+--------------------+-------------------------+\n",
      "|churned|avg(logoutsPerDay)|avg(DownVotedPerSong)| avg(UpVotedPerSong)|avg(rolledAdvertsPerSong)|\n",
      "+-------+------------------+---------------------+--------------------+-------------------------+\n",
      "|      0|1.0116226259289847| 0.009372752978787011|0.053240342811277756|      0.03133375640226847|\n",
      "|      1|1.0345695970695972| 0.017472523157041432|0.056052836564706374|      0.05443498097071554|\n",
      "+-------+------------------+---------------------+--------------------+-------------------------+\n",
      "\n"
     ]
    }
   ],
   "source": [
    "if True:\n",
    "    selected_data_last_week.select(['userId','churned','songsListenedPerDay'\\\n",
    "                                             , 'songsAddedToPlaylistPerDay'\n",
    "                                             , 'friendsAddedPerDay'\n",
    "                                             , 'rolledAdvertsPerDay'\n",
    "                                             , 'logoutsPerDay'\n",
    "                                             , 'upVotedPerDay'\n",
    "                                             , 'DownVotedPerDay'\n",
    "                                             , 'DownVotedPerSong'\n",
    "                                             , 'UpVotedPerSong'\n",
    "                                             , 'rolledAdvertsPerSong'])\\\n",
    "                                            .dropDuplicates()\\\n",
    "                                            .groupBy('churned')\\\n",
    "                                            .avg('logoutsPerDay'\n",
    "                                                 , 'DownVotedPerSong'\n",
    "                                                 , 'UpVotedPerSong'\n",
    "                                                 , 'rolledAdvertsPerSong').show()"
   ]
  },
  {
   "cell_type": "code",
   "execution_count": 34,
   "metadata": {},
   "outputs": [
    {
     "name": "stdout",
     "output_type": "stream",
     "text": [
      "+-------+------------------+---------------------+-------------------+-------------------------+\n",
      "|churned|avg(logoutsPerDay)|avg(DownVotedPerSong)|avg(UpVotedPerSong)|avg(rolledAdvertsPerSong)|\n",
      "+-------+------------------+---------------------+-------------------+-------------------------+\n",
      "|      0|0.8941634838992512| 0.010758008401351918|0.05558031808778565|     0.035232856221563316|\n",
      "|      1|0.9535670020616785|  0.01566800915504926|0.04463174051627814|      0.05176544836048677|\n",
      "+-------+------------------+---------------------+-------------------+-------------------------+\n",
      "\n"
     ]
    }
   ],
   "source": [
    "if True:\n",
    "    selected_data_before_last_week.select(['userId','churned','songsListenedPerDay'\\\n",
    "                                             , 'songsAddedToPlaylistPerDay'\n",
    "                                             , 'friendsAddedPerDay'\n",
    "                                             , 'rolledAdvertsPerDay'\n",
    "                                             , 'logoutsPerDay'\n",
    "                                             , 'upVotedPerDay'\n",
    "                                             , 'DownVotedPerDay'\n",
    "                                             , 'DownVotedPerSong'\n",
    "                                             , 'UpVotedPerSong'\n",
    "                                             , 'rolledAdvertsPerSong'])\\\n",
    "                                            .dropDuplicates()\\\n",
    "                                            .groupBy('churned')\\\n",
    "                                            .avg('logoutsPerDay'\n",
    "                                                 , 'DownVotedPerSong'\n",
    "                                                 , 'UpVotedPerSong'\n",
    "                                                 , 'rolledAdvertsPerSong').show()"
   ]
  },
  {
   "cell_type": "code",
   "execution_count": 35,
   "metadata": {},
   "outputs": [],
   "source": [
    "# keep only distinct user calculations\n",
    "selected_data_last_week = selected_data_last_week.select(['userId','songsListenedPerDay','songsAddedToPlaylistPerDay']).dropDuplicates()\n",
    "selected_data_before_last_week = selected_data_before_last_week.select(['userId','songsListenedPerDay','songsAddedToPlaylistPerDay']).dropDuplicates()\n",
    "\n",
    "selected_data_last_week = selected_data_last_week\\\n",
    "                            .withColumnRenamed('songsAddedToPlaylistPerDay','songsAddedToPlaylistPerDayLastWeek')\\\n",
    "                            .withColumnRenamed('songsListenedPerDay','songsListenedPerDayLastWeek')\n",
    "\n",
    "selected_data_before_last_week = selected_data_before_last_week\\\n",
    "                            .withColumnRenamed('songsAddedToPlaylistPerDay','songsAddedToPlaylistPerDayBeforeLastWeek')\\\n",
    "                            .withColumnRenamed('songsListenedPerDay','songsListenedPerDayBeforeLastWeek')"
   ]
  },
  {
   "cell_type": "code",
   "execution_count": 36,
   "metadata": {},
   "outputs": [],
   "source": [
    "selected_data = selected_data.join(selected_data_last_week\\\n",
    "                    .select(['userId'\\\n",
    "                             ,'songsAddedToPlaylistPerDayLastWeek'\\\n",
    "                             ,'songsListenedPerDayLastWeek']),'userId','left')"
   ]
  },
  {
   "cell_type": "code",
   "execution_count": 37,
   "metadata": {},
   "outputs": [],
   "source": [
    "selected_data = selected_data.join(selected_data_before_last_week\\\n",
    "                    .select(['userId'\\\n",
    "                             ,'songsAddedToPlaylistPerDayBeforeLastWeek'\\\n",
    "                             ,'songsListenedPerDayBeforeLastWeek']),'userId','left')"
   ]
  },
  {
   "cell_type": "code",
   "execution_count": 38,
   "metadata": {},
   "outputs": [],
   "source": [
    "selected_data = selected_data.withColumn('playlistActivityChange'\\\n",
    "                                          ,selected_data.songsAddedToPlaylistPerDayLastWeek/selected_data.songsAddedToPlaylistPerDayBeforeLastWeek)\\\n",
    "                             .withColumn('listeningActivityChange'\\\n",
    "                                          ,selected_data.songsListenedPerDayLastWeek/selected_data.songsListenedPerDayBeforeLastWeek)"
   ]
  },
  {
   "cell_type": "code",
   "execution_count": 39,
   "metadata": {},
   "outputs": [
    {
     "name": "stdout",
     "output_type": "stream",
     "text": [
      "+-------+---------------------------+\n",
      "|churned|avg(intensityOfInteraction)|\n",
      "+-------+---------------------------+\n",
      "|      0|         30.525659485236947|\n",
      "|      1|          51.30873352861251|\n",
      "+-------+---------------------------+\n",
      "\n"
     ]
    }
   ],
   "source": [
    "if True:\n",
    "    selected_data.select(['userId','churned', 'intensityOfInteraction'])\\\n",
    "                                            .dropDuplicates()\\\n",
    "                                            .groupBy('churned')\\\n",
    "                                            .avg('intensityOfInteraction').show()"
   ]
  },
  {
   "cell_type": "code",
   "execution_count": 40,
   "metadata": {},
   "outputs": [
    {
     "name": "stdout",
     "output_type": "stream",
     "text": [
      "+-------+------------------------+-------------------------------+-----------------------+------------------------+\n",
      "|churned|avg(songsListenedPerDay)|avg(songsAddedToPlaylistPerDay)|avg(friendsAddedPerDay)|avg(rolledAdvertsPerDay)|\n",
      "+-------+------------------------+-------------------------------+-----------------------+------------------------+\n",
      "|      0|       63.75151337240347|             1.7669149523780139|     1.2906602801681264|       1.425920387136379|\n",
      "|      1|       61.28465427752686|             1.7620385576687174|     1.1802959788202787|        2.30370850481346|\n",
      "+-------+------------------------+-------------------------------+-----------------------+------------------------+\n",
      "\n"
     ]
    }
   ],
   "source": [
    "if True:\n",
    "    selected_data.select(['userId','churned','songsListenedPerDay'\\\n",
    "                                             , 'songsAddedToPlaylistPerDay'\n",
    "                                             , 'friendsAddedPerDay'\n",
    "                                             , 'rolledAdvertsPerDay'\n",
    "                                             , 'logoutsPerDay'\n",
    "                                             , 'upVotedPerDay'\n",
    "                                             , 'DownVotedPerDay'\n",
    "                                             , 'DownVotedPerSong'\n",
    "                                             , 'UpVotedPerSong'\n",
    "                                             , 'rolledAdvertsPerSong'])\\\n",
    "                                            .dropDuplicates()\\\n",
    "                                            .groupBy('churned')\\\n",
    "                                            .avg('songsListenedPerDay'\n",
    "                                                 , 'songsAddedToPlaylistPerDay'\n",
    "                                                 , 'friendsAddedPerDay'\n",
    "                                                 , 'rolledAdvertsPerDay').show()"
   ]
  },
  {
   "cell_type": "code",
   "execution_count": 41,
   "metadata": {},
   "outputs": [
    {
     "name": "stdout",
     "output_type": "stream",
     "text": [
      "+-------+------------------+---------------------+-------------------+-------------------------+\n",
      "|churned|avg(logoutsPerDay)|avg(DownVotedPerSong)|avg(UpVotedPerSong)|avg(rolledAdvertsPerSong)|\n",
      "+-------+------------------+---------------------+-------------------+-------------------------+\n",
      "|      0|0.9333672364197397|  0.01020712194202562|0.05509142892317728|      0.03583661330296051|\n",
      "|      1|0.9926640147325367|  0.01751018776131704|0.05363922514672142|      0.05866835308958933|\n",
      "+-------+------------------+---------------------+-------------------+-------------------------+\n",
      "\n"
     ]
    }
   ],
   "source": [
    "if True:\n",
    "    selected_data.select(['userId','churned','songsListenedPerDay'\\\n",
    "                                             , 'songsAddedToPlaylistPerDay'\n",
    "                                             , 'friendsAddedPerDay'\n",
    "                                             , 'rolledAdvertsPerDay'\n",
    "                                             , 'logoutsPerDay'\n",
    "                                             , 'upVotedPerDay'\n",
    "                                             , 'DownVotedPerDay'\n",
    "                                             , 'DownVotedPerSong'\n",
    "                                             , 'UpVotedPerSong'\n",
    "                                             , 'rolledAdvertsPerSong'])\\\n",
    "                                            .dropDuplicates()\\\n",
    "                                            .groupBy('churned')\\\n",
    "                                            .avg('logoutsPerDay'\n",
    "                                                 , 'DownVotedPerSong'\n",
    "                                                 , 'UpVotedPerSong'\n",
    "                                                 , 'rolledAdvertsPerSong').show()"
   ]
  },
  {
   "cell_type": "code",
   "execution_count": 42,
   "metadata": {},
   "outputs": [
    {
     "data": {
      "text/plain": [
       "<pyspark.sql.group.GroupedData at 0x7f52f86ca358>"
      ]
     },
     "execution_count": 42,
     "metadata": {},
     "output_type": "execute_result"
    }
   ],
   "source": [
    "selected_data.select(['userId','payingChurned']).dropDuplicates().groupBy('paying')"
   ]
  },
  {
   "cell_type": "code",
   "execution_count": null,
   "metadata": {},
   "outputs": [],
   "source": []
  },
  {
   "cell_type": "code",
   "execution_count": 43,
   "metadata": {},
   "outputs": [],
   "source": [
    "selected_data_distinct_users = selected_data.select(['userId'\\\n",
    "                                                     ,'churned'\\\n",
    "                                                     ,'songsListenedPerDay'\\\n",
    "                                                     ,'DownVotedPerSong'\\\n",
    "                                                     ,'friendsAddedPerDay'\\\n",
    "                                                     ,'intensityOfInteraction'\\\n",
    "                                                     ,'playlistActivityChange'\\\n",
    "                                                     ,'listeningActivityChange']).dropDuplicates()"
   ]
  },
  {
   "cell_type": "code",
   "execution_count": 44,
   "metadata": {},
   "outputs": [],
   "source": [
    "# calculate means to replace nulls\n",
    "songsListenedPerDayMean = 0#selected_data_distinct_users.select(mean('songsListenedPerDay')).collect()[0][0]\n",
    "DownVotedPerSongMean = 0#selected_data_distinct_users.select(mean('DownVotedPerSong')).collect()[0][0]\n",
    "friendsAddedPerDayMean = 0#selected_data_distinct_users.select(mean('friendsAddedPerDay')).collect()[0][0]\n",
    "intensityOfInteractionMean = 0#selected_data_distinct_users.select(mean('intensityOfInteraction')).collect()[0][0]\n",
    "playlistActivityChangeMean = 0#selected_data_distinct_users.select(mean('playlistActivityChange')).collect()[0][0]\n",
    "listeningActivityChangeMean = 0#selected_data_distinct_users.select(mean('listeningActivityChange')).collect()[0][0]\n"
   ]
  },
  {
   "cell_type": "code",
   "execution_count": 45,
   "metadata": {},
   "outputs": [],
   "source": [
    "selected_data_distinct_users = selected_data_distinct_users.fillna(0,subset=['songsListenedPerDay'\\\n",
    "                                                     ,'DownVotedPerSong'\\\n",
    "                                                     ,'friendsAddedPerDay'\\\n",
    "                                                     ,'intensityOfInteraction'\\\n",
    "                                                     ,'playlistActivityChange'\\\n",
    "                                                     ,'listeningActivityChange'])"
   ]
  },
  {
   "cell_type": "markdown",
   "metadata": {},
   "source": [
    "# Feature Engineering\n",
    "Once you've familiarized yourself with the data, build out the features you find promising to train your model on. To work with the full dataset, you can follow the following steps.\n",
    "- Write a script to extract the necessary features from the smaller subset of data\n",
    "- Ensure that your script is scalable, using the best practices discussed in Lesson 3\n",
    "- Try your script on the full data set, debugging your script if necessary\n",
    "\n",
    "If you are working in the classroom workspace, you can just extract features based on the small subset of data contained here. Be sure to transfer over this work to the larger dataset when you work on your Spark cluster."
   ]
  },
  {
   "cell_type": "code",
   "execution_count": 46,
   "metadata": {},
   "outputs": [],
   "source": [
    "data = selected_data_distinct_users.select(['churned'\\\n",
    "                                                     ,'songsListenedPerDay'\\\n",
    "                                                     ,'DownVotedPerSong'\\\n",
    "                                                     ,'friendsAddedPerDay'\\\n",
    "                                                     ,'intensityOfInteraction'\\\n",
    "                                                     ,'playlistActivityChange'\\\n",
    "                                                     ,'listeningActivityChange'])\\\n",
    "                                   .withColumnRenamed('churned','label')"
   ]
  },
  {
   "cell_type": "code",
   "execution_count": 47,
   "metadata": {},
   "outputs": [],
   "source": [
    "assembler = VectorAssembler(inputCols=[\"songsListenedPerDay\"\\\n",
    "                                       , \"DownVotedPerSong\"\n",
    "                                       , 'friendsAddedPerDay'\n",
    "                                       , 'intensityOfInteraction'\n",
    "                                       , 'playlistActivityChange'\n",
    "                                       ,'listeningActivityChange'], outputCol=\"features\")"
   ]
  },
  {
   "cell_type": "code",
   "execution_count": 48,
   "metadata": {},
   "outputs": [],
   "source": [
    "data = assembler.transform(data)"
   ]
  },
  {
   "cell_type": "code",
   "execution_count": 49,
   "metadata": {},
   "outputs": [],
   "source": [
    "data = data.select(['label','features'])"
   ]
  },
  {
   "cell_type": "markdown",
   "metadata": {},
   "source": [
    "# Modeling\n",
    "Split the full dataset into train, test, and validation sets. Test out several of the machine learning methods you learned. Evaluate the accuracy of the various models, tuning parameters as necessary. Determine your winning model based on test accuracy and report results on the validation set. Since the churned users are a fairly small subset, I suggest using F1 score as the metric to optimize."
   ]
  },
  {
   "cell_type": "code",
   "execution_count": 50,
   "metadata": {},
   "outputs": [],
   "source": [
    "# Split data into training and testing sets\n",
    "trainingData, testData = data.randomSplit([0.7, 0.3], seed=12345)"
   ]
  },
  {
   "cell_type": "code",
   "execution_count": 51,
   "metadata": {},
   "outputs": [],
   "source": [
    "# instanciate the linear regression model\n",
    "lr = LogisticRegression(maxIter=5, regParam=0.0)\n",
    "dtr = DecisionTreeClassifier(labelCol=\"label\", featuresCol=\"features\")\n",
    "#rf = RandomForestClassifier(labelCol=\"label\", featuresCol=\"features\")"
   ]
  },
  {
   "cell_type": "code",
   "execution_count": 52,
   "metadata": {},
   "outputs": [],
   "source": [
    "# Define a grid of hyperparameters to search over\n",
    "paramGrid = ParamGridBuilder() \\\n",
    "    .addGrid(dtr.maxDepth, [4, 6]) \\\n",
    "    .build()"
   ]
  },
  {
   "cell_type": "code",
   "execution_count": 53,
   "metadata": {},
   "outputs": [],
   "source": [
    "# Evaluate the predictions using F1 score\n",
    "evaluator = MulticlassClassificationEvaluator(labelCol=\"label\", predictionCol=\"prediction\", metricName=\"f1\")\n",
    "# Create a CrossValidator to perform grid search\n",
    "cv = CrossValidator(estimator=dtr, estimatorParamMaps=paramGrid, evaluator=evaluator)"
   ]
  },
  {
   "cell_type": "code",
   "execution_count": null,
   "metadata": {},
   "outputs": [],
   "source": [
    "# Fit the CrossValidator to the training data\n",
    "dt_cvModel = cv.fit(trainingData)"
   ]
  },
  {
   "cell_type": "code",
   "execution_count": null,
   "metadata": {},
   "outputs": [],
   "source": [
    "dt_model = dtr.fit(trainingData)"
   ]
  },
  {
   "cell_type": "code",
   "execution_count": null,
   "metadata": {},
   "outputs": [],
   "source": [
    "#rf_model = rf.fit(trainingData)"
   ]
  },
  {
   "cell_type": "code",
   "execution_count": null,
   "metadata": {},
   "outputs": [],
   "source": [
    "lr_model = lr.fit(trainingData)"
   ]
  },
  {
   "cell_type": "code",
   "execution_count": null,
   "metadata": {},
   "outputs": [],
   "source": [
    "# use test data to make predictions\n",
    "#rf_predictions = rf_model.transform(testData)\n",
    "# use test data to make predictions\n",
    "lr_predictions = lr_model.transform(testData)\n",
    "# Evaluate the best model on the test data\n",
    "#cv_predictions = dt_cvModel.transform(testData)\n",
    "# Evaluate the best model on the test data\n",
    "dt_predictions = dt_model.transform(testData)"
   ]
  },
  {
   "cell_type": "code",
   "execution_count": null,
   "metadata": {},
   "outputs": [],
   "source": [
    "dt_f1_score = evaluator.evaluate(dt_predictions)\n",
    "lr_f1_score = evaluator.evaluate(lr_predictions)\n",
    "#cv_f1_score = evaluator.evaluate(cv_predictions)"
   ]
  },
  {
   "cell_type": "code",
   "execution_count": null,
   "metadata": {},
   "outputs": [],
   "source": [
    "print(dt_f1_score)\n",
    "print(lr_f1_score)\n",
    "#print(cv_f1_score)"
   ]
  },
  {
   "cell_type": "code",
   "execution_count": null,
   "metadata": {},
   "outputs": [],
   "source": [
    "#print(\"Best maxDepth: \", dt_cvModel.bestModel.getMaxDepth())"
   ]
  },
  {
   "cell_type": "markdown",
   "metadata": {},
   "source": [
    "# Final Steps\n",
    "Clean up your code, adding comments and renaming variables to make the code easier to read and maintain. Refer to the Spark Project Overview page and Data Scientist Capstone Project Rubric to make sure you are including all components of the capstone project and meet all expectations. Remember, this includes thorough documentation in a README file in a Github repository, as well as a web app or blog post."
   ]
  },
  {
   "cell_type": "code",
   "execution_count": null,
   "metadata": {},
   "outputs": [],
   "source": []
  }
 ],
 "metadata": {
  "kernelspec": {
   "display_name": "Python 3",
   "language": "python",
   "name": "python3"
  },
  "language_info": {
   "codemirror_mode": {
    "name": "ipython",
    "version": 3
   },
   "file_extension": ".py",
   "mimetype": "text/x-python",
   "name": "python",
   "nbconvert_exporter": "python",
   "pygments_lexer": "ipython3",
   "version": "3.6.3"
  }
 },
 "nbformat": 4,
 "nbformat_minor": 2
}
